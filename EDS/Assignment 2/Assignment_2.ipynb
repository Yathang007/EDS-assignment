{
  "cells": [
    {
      "cell_type": "markdown",
      "metadata": {
        "id": "I3_Y-8XnnLmA"
      },
      "source": [
        "\n",
        "# 1. Read csv file into python data structure"
      ]
    },
    {
      "cell_type": "code",
      "execution_count": null,
      "metadata": {},
      "outputs": [],
      "source": [
        "#Name:- YATHANG TUPE\n",
        "#roll no:- 868\n",
        "#PRN: 202201070076\n",
        "#batch:- H4"
      ]
    },
    {
      "cell_type": "code",
      "execution_count": null,
      "metadata": {
        "colab": {
          "base_uri": "https://localhost:8080/"
        },
        "id": "NdJJiDcwmI3q",
        "outputId": "9f73bf2d-4ed9-4a57-ac4a-b98c078a68b3"
      },
      "outputs": [
        {
          "name": "stdout",
          "output_type": "stream",
          "text": [
            "<class 'tuple'>\n"
          ]
        }
      ],
      "source": [
        "Product_details = []\n",
        "Supplier_details = dict()\n",
        "Customer_details = [] #tuple()\n",
        "gender={}\n",
        "\n",
        "fp1 = open(\"/content/drive/MyDrive/Colab Notebooks/Sales.csv\",\"r\")\n",
        "data = fp1.readline()\n",
        "\n",
        "while(True):\n",
        "\n",
        "  data = fp1.readline()\n",
        "  if not data:\n",
        "    break;\n",
        "  #print(data)\n",
        "  data = data.replace(\"\\n\",\"\")\n",
        "  temp = data.split(\",\")\n",
        "  Product_details.append(temp[1])\n",
        "  Customer_details.append(temp[3])\n",
        "  Supplier_details.update({temp[0]:temp[2]})\n",
        "  gender.update({temp[3]:temp[4]})\n",
        "\n",
        "fp1.close()\n",
        "#print(type(Customer_details))\n",
        "Customer_details = tuple(Customer_details)\n",
        "print(type(Customer_details))"
      ]
    },
    {
      "cell_type": "code",
      "execution_count": null,
      "metadata": {
        "colab": {
          "base_uri": "https://localhost:8080/"
        },
        "id": "hwkY_9b1rFRx",
        "outputId": "a88b07e2-5d83-4636-f08c-3da24e9de3db"
      },
      "outputs": [
        {
          "name": "stdout",
          "output_type": "stream",
          "text": [
            "\n",
            "Product_details\n",
            " ['Lenovo Laptop', 'Samsung M31', 'Realmi 10pro', 'Oppo F21', 'Lenovo Laptop', 'Samsung M31', '\"LG TV 32\"\"\"', 'Oppo F21', 'Lenovo Laptop', 'Samsung M31', '\"LG TV 32\"\"\"', 'Lenovo Laptop', 'Samsung M31', 'Realmi 10pro', 'Lenovo Laptop', 'Oppo F21', '\"LG TV 32\"\"\"', 'Lenovo Laptop', 'Samsung M31', '\"LG TV 32\"\"\"']\n",
            "Customer_details\n",
            " ('Kaustubh Mahajan', 'Siddhi Kiwale', 'Sanket Kandalkar', 'Yash Mali', 'Yash Bagul', 'Siddhi Kiwale', 'Sanket Kandalkar', 'Kaustubh Mahajan', 'Yash Mali', 'Siddhi Kiwale', 'Sanket Kandalkar', 'Kaustubh Mahajan', 'Yash Mali', 'Siddhi Kiwale', 'Tanuja Mali', 'Kaustubh Mahajan', 'Sanket Kandalkar', 'Siddhi Kiwale', 'Kaustubh Mahajan', 'Yash Mali')\n",
            "Supplier_details\n",
            " {'P00001': 'Raka Ele.', 'P00002': 'Vijay Sales', 'P00003': 'Gada Ele.', 'P00004': 'Surya Ele.', 'P00005': 'Raka Ele.', 'P00006': 'Gada Ele.', 'P00007': 'Vijay Sales', 'P00008': 'Surya Ele.', 'P00009': 'Raka Ele.', 'P00010': 'Gada Ele.', 'P00011': 'Surya Ele.', 'P00012': 'Raka Ele.', 'P00013': 'Surya Ele.', 'P00014': 'Raka Ele.', 'P00015': 'Gada Ele.', 'P00016': 'Vijay Sales', 'P00017': 'Deshmukh sales', 'P00018': 'Raka Ele.', 'P00019': 'Deshmukh sales', 'P00020': 'Gada Ele.'}\n",
            "Gender_details\n",
            " {'Kaustubh Mahajan': 'Male', 'Siddhi Kiwale': 'Female', 'Sanket Kandalkar': 'Male', 'Yash Mali': 'Male', 'Yash Bagul': 'Male', 'Tanuja Mali': 'Female'}"
          ]
        }
      ],
      "source": [
        "print(\"\\nProduct_details\\n\",Product_details,end=\"\")\n",
        "print(\"\\nCustomer_details\\n\",Customer_details,end=\"\")\n",
        "print(\"\\nSupplier_details\\n\",Supplier_details,end=\"\")\n",
        "print(\"\\nGender_details\\n\",gender,end=\"\")\n"
      ]
    },
    {
      "cell_type": "markdown",
      "metadata": {
        "id": "0kJ3IVsyspgM"
      },
      "source": [
        "# 2.Find the most popular product for sales"
      ]
    },
    {
      "cell_type": "code",
      "execution_count": null,
      "metadata": {
        "colab": {
          "base_uri": "https://localhost:8080/"
        },
        "id": "S54YEvwPsnC2",
        "outputId": "fe893d08-b467-4e1e-bc92-5b40e06aae5a"
      },
      "outputs": [
        {
          "name": "stdout",
          "output_type": "stream",
          "text": [
            "{'Lenovo Laptop': 6, 'Samsung M31': 5, 'Realmi 10pro': 2, 'Oppo F21': 3, '\"LG TV 32\"\"\"': 4}\n",
            "{'Lenovo Laptop': 6, 'Samsung M31': 5, '\"LG TV 32\"\"\"': 4, 'Oppo F21': 3, 'Realmi 10pro': 2}\n",
            "The most popular product for sales Lenovo Laptop sold 6 times\n"
          ]
        }
      ],
      "source": [
        "frequency = {} # {Lenovo Laptop : 3}\n",
        "#Iterating over the list\n",
        "for item in Product_details:\n",
        "  #checking the element in dictionary\n",
        "  if item in frequency:\n",
        "    #incrementing the counter\n",
        "    frequency[item] += 1\n",
        "  else:\n",
        "    #intializing the counter\n",
        "    frequency[item] = 1\n",
        "#printing the frequency\n",
        "print(frequency)\n",
        "marklist = sorted(frequency.items(),key = lambda x:x[1], reverse = True)\n",
        "sortdict = dict(marklist)\n",
        "print(sortdict)\n",
        "print(\"The most popular product for sales\",list(sortdict.keys())[0],\"sold\",list(sortdict.values())[0],\"times\")"
      ]
    },
    {
      "cell_type": "markdown",
      "metadata": {
        "id": "xODNWtWlBjcd"
      },
      "source": [
        "# OR"
      ]
    },
    {
      "cell_type": "code",
      "execution_count": null,
      "metadata": {
        "colab": {
          "base_uri": "https://localhost:8080/",
          "height": 130
        },
        "id": "7RGTfEVwCrbE",
        "outputId": "801e1087-9079-4503-deb3-2fead6cee001"
      },
      "outputs": [
        {
          "ename": "SyntaxError",
          "evalue": "ignored",
          "output_type": "error",
          "traceback": [
            "\u001b[0;36m  File \u001b[0;32m\"<ipython-input-9-a2179e0f333f>\"\u001b[0;36m, line \u001b[0;32m2\u001b[0m\n\u001b[0;31m    pip install collections\u001b[0m\n\u001b[0m        ^\u001b[0m\n\u001b[0;31mSyntaxError\u001b[0m\u001b[0;31m:\u001b[0m invalid syntax\n"
          ]
        }
      ],
      "source": [
        "#to install collections\n",
        "pip install collections"
      ]
    },
    {
      "cell_type": "code",
      "execution_count": null,
      "metadata": {
        "colab": {
          "base_uri": "https://localhost:8080/"
        },
        "id": "69rc-RECFU0B",
        "outputId": "c660b973-ddd5-4e68-85ca-014e61bde0a0"
      },
      "outputs": [
        {
          "name": "stdout",
          "output_type": "stream",
          "text": [
            "The most popular product for sales Lenovo Laptop sold 6 times\n"
          ]
        }
      ],
      "source": [
        "from collections import Counter\n",
        "counter = dict(Counter(Product_details))\n",
        "sorted_counter = sorted(counter.items(),key = lambda x:x[1], reverse = True)\n",
        "sorted_counter = dict(sorted_counter)\n",
        "print(\"The most popular product for sales\",list(sorted_counter.keys())[0],\"sold\",list(sorted_counter.values())[0],\"times\")"
      ]
    },
    {
      "cell_type": "markdown",
      "metadata": {
        "id": "3sUCdOD28U98"
      },
      "source": [
        "# 3. Find the best supplier for sales"
      ]
    },
    {
      "cell_type": "code",
      "execution_count": null,
      "metadata": {
        "colab": {
          "base_uri": "https://localhost:8080/"
        },
        "id": "HNrXqp756Jv5",
        "outputId": "5353da1e-1c57-42ad-ee0e-166fa9a41113"
      },
      "outputs": [
        {
          "name": "stdout",
          "output_type": "stream",
          "text": [
            "{'Raka Ele.': 6, 'Vijay Sales': 3, 'Gada Ele.': 5, 'Surya Ele.': 4, 'Deshmukh sales': 2}\n",
            "{'Raka Ele.': 6, 'Gada Ele.': 5, 'Surya Ele.': 4, 'Vijay Sales': 3, 'Deshmukh sales': 2}\n",
            "The most popular Supplier for sales Raka Ele. sold 6 Items\n"
          ]
        }
      ],
      "source": [
        "frequency = {}\n",
        "#Iterating over the list\n",
        "for item in Supplier_details.values():\n",
        "  #checking the element in dictionary\n",
        "  if item in frequency:\n",
        "    #incrementing the counter\n",
        "    frequency[item] += 1\n",
        "  else:\n",
        "     #intializing the counter\n",
        "    frequency[item] = 1\n",
        "#printing the frequency\n",
        "print(frequency)\n",
        "marklist = sorted(frequency.items(),key = lambda x:x[1], reverse = True)\n",
        "sortdict = dict(marklist)\n",
        "print(sortdict)\n",
        "print(\"The most popular Supplier for sales\",list(sortdict.keys())[0],\"sold\",list(sortdict.values())[0],\"Items\")"
      ]
    },
    {
      "cell_type": "markdown",
      "metadata": {
        "id": "yJFK3kTgGiX4"
      },
      "source": [
        "# OR"
      ]
    },
    {
      "cell_type": "code",
      "execution_count": null,
      "metadata": {
        "colab": {
          "base_uri": "https://localhost:8080/"
        },
        "id": "gScg7aiRGkPy",
        "outputId": "9a996a26-0cd4-4ee5-922f-4b94f4003399"
      },
      "outputs": [
        {
          "name": "stdout",
          "output_type": "stream",
          "text": [
            "The most popular Supplier for sales Raka Ele. sold 6 times\n"
          ]
        }
      ],
      "source": [
        "from collections import Counter\n",
        "counter = dict(Counter(list(Supplier_details.values())))\n",
        "sorted_counter = sorted(counter.items(),key = lambda x:x[1], reverse = True)\n",
        "sorted_counter = dict(sorted_counter)\n",
        "print(\"The most popular Supplier for sales\",list(sorted_counter.keys())[0],\"sold\",list(sorted_counter.values())[0],\"Items\")"
      ]
    },
    {
      "cell_type": "markdown",
      "metadata": {
        "id": "QTKK41mH_EH5"
      },
      "source": [
        "# 4. Find the customer who buys most of the products"
      ]
    },
    {
      "cell_type": "code",
      "execution_count": null,
      "metadata": {
        "colab": {
          "base_uri": "https://localhost:8080/"
        },
        "id": "vt6NFLLx_f5Q",
        "outputId": "b165378d-0e33-4dab-f578-d93789b7a49b"
      },
      "outputs": [
        {
          "name": "stdout",
          "output_type": "stream",
          "text": [
            "Frequency is as below: \n",
            " {'Kaustubh Mahajan': 5, 'Siddhi Kiwale': 5, 'Sanket Kandalkar': 4, 'Yash Mali': 4, 'Yash Bagul': 1, 'Tanuja Mali': 1}\n",
            "\n",
            " Sorted dict is as below: \n",
            " {'Kaustubh Mahajan': 5, 'Siddhi Kiwale': 5, 'Sanket Kandalkar': 4, 'Yash Mali': 4, 'Yash Bagul': 1, 'Tanuja Mali': 1}\n",
            "\n",
            "\n",
            " The customer who buys most of the products: Kaustubh Mahajan buy 5 Items\n"
          ]
        }
      ],
      "source": [
        "frequency = {}\n",
        "#Iterating over the list\n",
        "for item in Customer_details:\n",
        "  #checking the element in dictionary\n",
        "  if item in frequency:\n",
        "    #incrementing the counter\n",
        "    frequency[item] += 1\n",
        "  else:\n",
        "     #intializing the counter\n",
        "    frequency[item] = 1\n",
        "#printing the frequency\n",
        "print(\"Frequency is as below: \\n\",frequency)\n",
        "marklist = sorted(frequency.items(),key = lambda x:x[1], reverse = True)\n",
        "sortdict = dict(marklist)\n",
        "print(\"\\n Sorted dict is as below: \\n\",sortdict)\n",
        "print(\"\\n\\n The customer who buys most of the products:\",list(sortdict.keys())[0],\"buy\",list(sortdict.values())[0],\"Items\")"
      ]
    },
    {
      "cell_type": "markdown",
      "metadata": {
        "id": "O6XzKv5THGBT"
      },
      "source": [
        "# OR"
      ]
    },
    {
      "cell_type": "code",
      "execution_count": null,
      "metadata": {
        "colab": {
          "base_uri": "https://localhost:8080/"
        },
        "id": "1r3byRp0HIM1",
        "outputId": "ac22e997-c972-445b-8b4b-04c9d0793af9"
      },
      "outputs": [
        {
          "name": "stdout",
          "output_type": "stream",
          "text": [
            "The customer who buys most of the products: Kaustubh Mahajan buys 5 Items\n"
          ]
        }
      ],
      "source": [
        "from collections import Counter\n",
        "counter = dict(Counter(list(Customer_details)))\n",
        "sorted_counter = sorted(counter.items(),key = lambda x:x[1], reverse = True)\n",
        "sorted_counter = dict(sorted_counter)\n",
        "print(\"The customer who buys most of the products:\",list(sorted_counter.keys())[0],\"buys\",list(sorted_counter.values())[0],\"Items\")"
      ]
    },
    {
      "cell_type": "markdown",
      "metadata": {
        "id": "pnj0Ck5qAv_-"
      },
      "source": [
        "# 5. Find the number of customer who are 'Female'"
      ]
    },
    {
      "cell_type": "code",
      "execution_count": null,
      "metadata": {
        "colab": {
          "base_uri": "https://localhost:8080/"
        },
        "id": "H6Om2KKgA7w-",
        "outputId": "1d152edf-aea9-482c-ff93-080311826ac1"
      },
      "outputs": [
        {
          "name": "stdout",
          "output_type": "stream",
          "text": [
            "['Kaustubh Mahajan', 'Siddhi Kiwale', 'Sanket Kandalkar', 'Yash Mali', 'Yash Bagul', 'Tanuja Mali']\n",
            "Total no of Males: 4\n",
            "Total no of Females: 2\n"
          ]
        }
      ],
      "source": [
        "#Identifying unique customers\n",
        "\n",
        "from collections import Counter\n",
        "counter = dict(Counter(list(Customer_details)))\n",
        "names = list(counter.keys())\n",
        "print(names)\n",
        "male=0\n",
        "female=0\n",
        "\n",
        "for name in names:\n",
        "  if gender[name]==\"Male\":\n",
        "    male = male + 1\n",
        "  if gender[name]==\"Female\":\n",
        "    female = female + 1\n",
        "print(\"Total no of Males:\",male)\n",
        "print(\"Total no of Females:\",female)"
      ]
    }
  ],
  "metadata": {
    "colab": {
      "provenance": []
    },
    "kernelspec": {
      "display_name": "Python 3",
      "name": "python3"
    },
    "language_info": {
      "name": "python"
    }
  },
  "nbformat": 4,
  "nbformat_minor": 0
}
